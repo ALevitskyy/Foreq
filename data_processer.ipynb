{
 "cells": [
  {
   "cell_type": "code",
   "execution_count": 66,
   "metadata": {},
   "outputs": [],
   "source": [
    "import os\n",
    "from pathlib import Path\n",
    "import pandas as pd\n",
    "from dateutil.relativedelta import relativedelta\n",
    "import random\n",
    "import datetime"
   ]
  },
  {
   "cell_type": "code",
   "execution_count": 75,
   "metadata": {},
   "outputs": [],
   "source": [
    "def load_spreadsheet(csv_path):\n",
    "    table = pd.read_csv(csv_path, \n",
    "                        sep=\";\",\n",
    "                        header = None,\n",
    "                        names = [\"O\",\"H\",\"L\",\"C\",\"V\"],\n",
    "                       parse_dates = True)\n",
    "    return table[[\"O\", \"C\"]]\n",
    "\n",
    "def random_timestamp(start, end):\n",
    "    seconds = (end-start).total_seconds()\n",
    "    seconds = random.randint(0,int(seconds))\n",
    "    return start + relativedelta(seconds = seconds)\n",
    "\n",
    "\n",
    "class DataManager:\n",
    "    def __init__(self, \n",
    "                 data_path = \"./reduced\",\n",
    "                horizons = {\"1M\":1,\"5M\":5,\"15M\":15,\n",
    "                            \"30M\":30,\"1H\":60,\"2H\":120,\n",
    "                           \"4H\":240, \"8H\":420, \"12H\":720,\n",
    "                           \"16H\":960, \"24H\":1440},\n",
    "                channel_size = 256):\n",
    "        self.currency_gen = Path(data_path).glob(\"./*\")\n",
    "        self.raw_data = {}\n",
    "        self.start_end = {}\n",
    "        self.horizons = horizons\n",
    "        self.channel_size = channel_size\n",
    "        \n",
    "    def get_sample(self,currency):\n",
    "        index = self.get_random_timestamp(currency)\n",
    "        \n",
    "    def load_currency(self, currency_path):\n",
    "        file_list = []\n",
    "        for file in currency_path.glob(\"./*.csv\"):\n",
    "            file_list.append(load_spreadsheet(file))\n",
    "        return pd.concat(file_list).sort_index()\n",
    "    \n",
    "    def load_all(self):\n",
    "        for currency in self.currency_gen:\n",
    "            if \".\" not in currency.name:\n",
    "                self.raw_data[currency.name] = self.load_currency(currency)\n",
    "                table = self.raw_data[currency.name]\n",
    "                start = table.index.min()+relativedelta(months = 16)\n",
    "                end = table.index.max()-relativedelta(years = 1)\n",
    "                self.start_end[currency.name] = [start, end]\n",
    "            \n",
    "    def get_random_timestamp(self, currency):\n",
    "        start, end = self.start_end[currency]\n",
    "        random_time = random_timestamp(start, end)\n",
    "        index = self.raw_data[currency].index.get_loc(random_time, method = \"nearest\")\n",
    "        return index\n",
    "        \n",
    "    def get_norm_params(self,\n",
    "                        currency,\n",
    "                        horizon):\n",
    "        pass\n",
    "    \n",
    "    def get_splits(self,\n",
    "                  currency,\n",
    "                  horizon):\n",
    "        pass\n",
    "        "
   ]
  },
  {
   "cell_type": "code",
   "execution_count": 76,
   "metadata": {},
   "outputs": [],
   "source": [
    "#tests\n",
    "def norm_params_stability():\n",
    "    pass\n",
    "def splits_stability():\n",
    "    pass\n",
    "def spreadsheet_load():\n",
    "    dataManager = DataManager()\n",
    "    dataManager.load_all()\n",
    "    table = dataManager.raw_data[\"AUDCAD\"]\n",
    "    return dataManager, table"
   ]
  },
  {
   "cell_type": "code",
   "execution_count": 77,
   "metadata": {},
   "outputs": [],
   "source": [
    "dataManager, table = spreadsheet_load()"
   ]
  },
  {
   "cell_type": "code",
   "execution_count": 70,
   "metadata": {},
   "outputs": [
    {
     "name": "stdout",
     "output_type": "stream",
     "text": [
      "0:00:00.011206\n"
     ]
    }
   ],
   "source": [
    "now = datetime.datetime.now()\n",
    "table[\"C\"].iloc[0:368640].resample(\"1H\").last().dropna()\n",
    "print(datetime.datetime.now() - now)"
   ]
  },
  {
   "cell_type": "code",
   "execution_count": 78,
   "metadata": {},
   "outputs": [
    {
     "data": {
      "text/plain": [
       "2508224"
      ]
     },
     "execution_count": 78,
     "metadata": {},
     "output_type": "execute_result"
    }
   ],
   "source": [
    "dataManager.get_random_timestamp(\"AUDCAD\")"
   ]
  },
  {
   "cell_type": "code",
   "execution_count": 58,
   "metadata": {},
   "outputs": [],
   "source": [
    "minim = table.index.min()+relativedelta(months = 16)\n",
    "maxim = table.index.max()-relativedelta(years = 1)"
   ]
  },
  {
   "cell_type": "code",
   "execution_count": 59,
   "metadata": {},
   "outputs": [],
   "source": []
  },
  {
   "cell_type": "code",
   "execution_count": 62,
   "metadata": {},
   "outputs": [
    {
     "data": {
      "text/plain": [
       "Timestamp('2013-04-25 11:02:40')"
      ]
     },
     "execution_count": 62,
     "metadata": {},
     "output_type": "execute_result"
    }
   ],
   "source": [
    "random_timestamp(minim,maxim)"
   ]
  },
  {
   "cell_type": "code",
   "execution_count": 49,
   "metadata": {},
   "outputs": [
    {
     "data": {
      "text/plain": [
       "306201480.0"
      ]
     },
     "execution_count": 49,
     "metadata": {},
     "output_type": "execute_result"
    }
   ],
   "source": [
    "(maxim - minim).total_seconds()"
   ]
  },
  {
   "cell_type": "code",
   "execution_count": null,
   "metadata": {},
   "outputs": [],
   "source": []
  }
 ],
 "metadata": {
  "kernelspec": {
   "display_name": "Python 3",
   "language": "python",
   "name": "python3"
  },
  "language_info": {
   "codemirror_mode": {
    "name": "ipython",
    "version": 3
   },
   "file_extension": ".py",
   "mimetype": "text/x-python",
   "name": "python",
   "nbconvert_exporter": "python",
   "pygments_lexer": "ipython3",
   "version": "3.5.6"
  }
 },
 "nbformat": 4,
 "nbformat_minor": 2
}
