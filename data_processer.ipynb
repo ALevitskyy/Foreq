{
 "cells": [
  {
   "cell_type": "code",
   "execution_count": 23,
   "metadata": {},
   "outputs": [],
   "source": [
    "import os\n",
    "from pathlib import Path\n",
    "import pandas as pd"
   ]
  },
  {
   "cell_type": "code",
   "execution_count": 65,
   "metadata": {},
   "outputs": [],
   "source": [
    "def load_spreadsheet(csv_path):\n",
    "    table = pd.read_csv(csv_path, \n",
    "                        sep=\";\",\n",
    "                        header = None,\n",
    "                        names = [\"O\",\"H\",\"L\",\"C\",\"V\"],\n",
    "                       parse_dates = True)\n",
    "    return table.drop(columns=[\"V\"])\n",
    "\n",
    "class DataManager:\n",
    "    def __init__(self, \n",
    "                 data_path = \"./data\",\n",
    "                horizons = [\"1M\",\"5M\",\"15M\",\n",
    "                            \"30M\",\"1H\",\"2H\",\n",
    "                           \"4H\", \"8H\", \"12H\",\n",
    "                           \"16H\", \"24H\"]):\n",
    "        self.currency_gen = Path(data_path).glob(\"./*\")\n",
    "        self.raw_data = {}\n",
    "        \n",
    "    def load_currency(self, currency_path):\n",
    "        file_list = []\n",
    "        for file in currency_path.glob(\"./*.csv\"):\n",
    "            file_list.append(load_spreadsheet(file))\n",
    "        return pd.concat(file_list)\n",
    "    \n",
    "    def load_all(self):\n",
    "        for currency in self.currency_gen:\n",
    "            self.raw_data[currency.name] = self.load_currency(currency)\n",
    "    \n",
    "    def get_norm_params(self,\n",
    "                        currency,\n",
    "                        horizon):\n",
    "        pass\n",
    "    \n",
    "    def get_splits(self,\n",
    "                  currency,\n",
    "                  horizon):\n",
    "        pass\n",
    "        "
   ]
  },
  {
   "cell_type": "code",
   "execution_count": 69,
   "metadata": {},
   "outputs": [],
   "source": [
    "#tests\n",
    "def norm_params_stability():\n",
    "    pass\n",
    "def splits_stability():\n",
    "    pass\n",
    "def spreadsheet_load():\n",
    "    dataManager = DataManager()\n",
    "    dataManager.load_all()\n",
    "    table = dataManager.raw_data[\"cur1\"]\n",
    "    return dataManager, table"
   ]
  },
  {
   "cell_type": "code",
   "execution_count": 70,
   "metadata": {},
   "outputs": [],
   "source": [
    "dataManager, table = spreadsheet_load()"
   ]
  },
  {
   "cell_type": "code",
   "execution_count": 79,
   "metadata": {},
   "outputs": [
    {
     "data": {
      "text/plain": [
       "2017-01-02    1.04882\n",
       "2017-01-03    1.04025\n",
       "2017-01-04    1.05261\n",
       "2017-01-05    1.05803\n",
       "2017-01-06    1.05306\n",
       "2017-01-08    1.05263\n",
       "2017-01-09    1.06078\n",
       "2017-01-10    1.05503\n",
       "2017-01-11    1.05996\n",
       "2017-01-12    1.06172\n",
       "2017-01-13    1.06425\n",
       "2017-01-15    1.06150\n",
       "2017-01-16    1.06399\n",
       "2017-01-17    1.06976\n",
       "2017-01-18    1.06406\n",
       "2017-01-19    1.06801\n",
       "2017-01-20    1.06988\n",
       "2017-01-22    1.07370\n",
       "2017-01-23    1.07511\n",
       "2017-01-24    1.07306\n",
       "2017-01-25    1.07566\n",
       "2017-01-26    1.06743\n",
       "2017-01-27    1.06963\n",
       "2017-01-29    1.07293\n",
       "2017-01-30    1.06961\n",
       "2017-01-31    1.07905\n",
       "2017-02-01    1.07841\n",
       "2017-02-02    1.07575\n",
       "2017-02-03    1.07825\n",
       "2017-02-05    1.07756\n",
       "               ...   \n",
       "2018-11-27    1.12952\n",
       "2018-11-28    1.13859\n",
       "2018-11-29    1.13927\n",
       "2018-11-30    1.13148\n",
       "2018-12-02    1.13497\n",
       "2018-12-03    1.13777\n",
       "2018-12-04    1.13282\n",
       "2018-12-05    1.13471\n",
       "2018-12-06    1.13737\n",
       "2018-12-07    1.13762\n",
       "2018-12-09    1.14281\n",
       "2018-12-10    1.13690\n",
       "2018-12-11    1.13261\n",
       "2018-12-12    1.13649\n",
       "2018-12-13    1.13617\n",
       "2018-12-14    1.13036\n",
       "2018-12-16    1.13093\n",
       "2018-12-17    1.13472\n",
       "2018-12-18    1.13813\n",
       "2018-12-19    1.13856\n",
       "2018-12-20    1.14440\n",
       "2018-12-21    1.13684\n",
       "2018-12-23    1.13918\n",
       "2018-12-24    1.14135\n",
       "2018-12-25    1.14054\n",
       "2018-12-26    1.13845\n",
       "2018-12-27    1.14512\n",
       "2018-12-28    1.14414\n",
       "2018-12-30    1.14223\n",
       "2018-12-31    1.14644\n",
       "Name: C, Length: 623, dtype: float64"
      ]
     },
     "execution_count": 79,
     "metadata": {},
     "output_type": "execute_result"
    }
   ],
   "source": [
    "table[\"C\"].resample(\"1D\").last().dropna()"
   ]
  },
  {
   "cell_type": "code",
   "execution_count": null,
   "metadata": {},
   "outputs": [],
   "source": []
  }
 ],
 "metadata": {
  "kernelspec": {
   "display_name": "Python 3",
   "language": "python",
   "name": "python3"
  },
  "language_info": {
   "codemirror_mode": {
    "name": "ipython",
    "version": 3
   },
   "file_extension": ".py",
   "mimetype": "text/x-python",
   "name": "python",
   "nbconvert_exporter": "python",
   "pygments_lexer": "ipython3",
   "version": "3.7.3"
  }
 },
 "nbformat": 4,
 "nbformat_minor": 2
}
